{
 "cells": [
  {
   "cell_type": "code",
   "execution_count": 35,
   "metadata": {
    "collapsed": true,
    "ExecuteTime": {
     "end_time": "2025-05-03T12:23:46.015721100Z",
     "start_time": "2025-05-03T12:23:46.002723100Z"
    }
   },
   "outputs": [],
   "source": [
    "import numpy as np\n",
    "import matplotlib.pyplot as plt\n",
    "from sklearn.metrics import mean_absolute_error\n",
    "import pandas as pd\n",
    "import seaborn as sns\n",
    "from sklearn.model_selection import ParameterGrid\n",
    "from tqdm import tqdm"
   ]
  },
  {
   "cell_type": "code",
   "execution_count": 36,
   "outputs": [],
   "source": [
    "np.random.seed(42)"
   ],
   "metadata": {
    "collapsed": false,
    "ExecuteTime": {
     "end_time": "2025-05-03T12:23:46.501051300Z",
     "start_time": "2025-05-03T12:23:46.486050400Z"
    }
   }
  },
  {
   "cell_type": "code",
   "execution_count": 37,
   "outputs": [],
   "source": [
    "def count_support_vectors(a, C):\n",
    "    l = len(a) // 2\n",
    "    count = 0\n",
    "\n",
    "    for i in range(l):\n",
    "        if 0 < a[i] < C or 0 < a[i + l] < C:\n",
    "            count += 1\n",
    "\n",
    "    return count\n",
    "\n",
    "def extract_support_vectors(a, x_train, C):\n",
    "    l = len(x_train)\n",
    "    support_vector_indices = []\n",
    "\n",
    "    for i in range(l):\n",
    "        if 0 < a[i] < C or 0 < a[i + l] < C:\n",
    "            support_vector_indices.append(i)\n",
    "\n",
    "    support_vectors = x_train[support_vector_indices]\n",
    "    return support_vector_indices, support_vectors\n",
    "class Info:\n",
    "    def __init__(self, size):\n",
    "        self.history_of_norm = np.zeros(size)\n",
    "\n",
    "    def show_history_of_norm(self):\n",
    "        plt.plot(np.log10(self.history_of_norm))\n",
    "        plt.grid()\n",
    "        plt.title(\"History of norm\")\n",
    "        plt.show()\n",
    "\n",
    "\n",
    "def sinc_function(x):\n",
    "    return np.sinc(x)\n",
    "    # return np.sin(np.pi * x / 4.0) + 0.5 * np.sin(np.pi * x)"
   ],
   "metadata": {
    "collapsed": false,
    "ExecuteTime": {
     "end_time": "2025-05-03T12:23:47.325192100Z",
     "start_time": "2025-05-03T12:23:47.312193200Z"
    }
   }
  },
  {
   "cell_type": "markdown",
   "source": [
    "PREPARE DATA"
   ],
   "metadata": {
    "collapsed": false
   }
  },
  {
   "cell_type": "code",
   "execution_count": 38,
   "outputs": [],
   "source": [
    "l = 200\n",
    "x_min, x_max = -5, 5\n",
    "x = np.linspace(x_min, x_max, l)\n",
    "y_true = sinc_function(x)\n",
    "\n",
    "noise = np.random.normal(0, 0.1, l)\n",
    "y_noisy = y_true + noise"
   ],
   "metadata": {
    "collapsed": false,
    "ExecuteTime": {
     "end_time": "2025-05-03T12:23:50.891374200Z",
     "start_time": "2025-05-03T12:23:50.869373700Z"
    }
   }
  },
  {
   "cell_type": "code",
   "execution_count": 39,
   "outputs": [],
   "source": [
    "def rbf_kernel(x1, x2, gamma):\n",
    "    return np.exp(-gamma * np.linalg.norm(x1 - x2) ** 2)\n",
    "\n",
    "\n",
    "def compute_kernel_matrix(X, gamma):\n",
    "    n = len(X)\n",
    "    K = np.zeros((n, n))\n",
    "    for i in range(n):\n",
    "        for j in range(n):\n",
    "            K[i, j] = rbf_kernel(X[i], X[j], gamma)\n",
    "    return K\n",
    "\n",
    "\n",
    "def sor_algorithm(H, E, c, C, tolerance=1e-3, max_iter=10000, omega=1.0):\n",
    "    info = Info(max_iter)\n",
    "    A = H + E\n",
    "    a = np.zeros_like(c)\n",
    "\n",
    "    # Разложение A = L + D + L^T\n",
    "    D = np.diag(np.diag(A))  # Диагональная часть\n",
    "    L = np.tril(A, k=-1)  # Строго нижняя треугольная часть\n",
    "\n",
    "    diag = np.diag(D)\n",
    "    if np.any(diag == 0):\n",
    "        raise ValueError(\"Diagonal elements of D contain zeros!\")\n",
    "    diag_inv = 1 / diag\n",
    "\n",
    "    for iteration in range(max_iter):\n",
    "        a_prev = a.copy()\n",
    "\n",
    "        for j in range(len(a)):\n",
    "            sum_L = np.dot(L[j, :j], a[:j])  # Вклад от строго нижней треугольной части\n",
    "            sum_D_U = np.dot(A[j, j:], a_prev[j:])  # Вклад от диагональной и верхней частей\n",
    "            a[j] = a_prev[j] - omega * diag_inv[j] * (sum_L + sum_D_U - c[j])\n",
    "            a[j] = max(0, min(C, a[j]))  # Проекция на [0, C]\n",
    "\n",
    "        norm = np.linalg.norm(a - a_prev)\n",
    "        info.history_of_norm[iteration] = norm\n",
    "        if norm < tolerance:\n",
    "            break\n",
    "\n",
    "    return a, info"
   ],
   "metadata": {
    "collapsed": false,
    "ExecuteTime": {
     "end_time": "2025-05-03T12:23:51.937945500Z",
     "start_time": "2025-05-03T12:23:51.923947200Z"
    }
   }
  },
  {
   "cell_type": "code",
   "execution_count": 40,
   "outputs": [],
   "source": [
    "def predict(x_new, x_train, a, b, gamma):\n",
    "    n = len(x_train)\n",
    "    y_pred = np.zeros(len(x_new))\n",
    "    for i in range(len(x_new)):\n",
    "        y_pred[i] = b\n",
    "        for j in range(n):\n",
    "            y_pred[i] += (a[j] - a[j + n]) * rbf_kernel(x_train[j], x_new[i], gamma)\n",
    "    return y_pred"
   ],
   "metadata": {
    "collapsed": false,
    "ExecuteTime": {
     "end_time": "2025-05-03T12:43:07.753164100Z",
     "start_time": "2025-05-03T12:43:07.735449800Z"
    }
   }
  },
  {
   "cell_type": "code",
   "execution_count": 42,
   "outputs": [],
   "source": [
    "from joblib import Parallel, delayed\n",
    "\n",
    "param_grid = {\n",
    "    'C': [0.1, 1, 2, 5, 7, 10],          # 5 значений для C (например, [0.1, 0.46, 2.15, 10, 46.4])\n",
    "    'epsilon': np.linspace(0.07, 0.25, 6),  # 5 значений для epsilon (например, [0.01, 0.06, 0.11, 0.16, 0.2])\n",
    "    'gamma': [0.1, 0.7, 1, 1.5, 3, 10]        # 5 значений для gamma (например, [0.1, 0.32, 1, 3.2, 10])\n",
    "}\n",
    "\n",
    "# Функция для выполнения вычислений для одного значения omega\n",
    "def process_omega(omega):\n",
    "    results = []  # Список для хранения результатов текущей omega\n",
    "    best_mae = float('inf')\n",
    "    best_params = None\n",
    "    best_info = None\n",
    "\n",
    "    total_iterations = len(list(ParameterGrid(param_grid)))\n",
    "    with tqdm(total=total_iterations, desc=f\"Grid Search Progress (omega={omega})\", unit=\"iteration\") as pbar:\n",
    "        for params in ParameterGrid(param_grid):\n",
    "            C, epsilon, gamma = params['C'], params['epsilon'], params['gamma']\n",
    "\n",
    "            K = compute_kernel_matrix(x, gamma)\n",
    "            H = np.block([[K, -K], [-K, K]])\n",
    "            E = np.block([[np.ones((l, l)), -np.ones((l, l))], [-np.ones((l, l)), np.ones((l, l))]])\n",
    "            c = np.concatenate([y_noisy - epsilon, -y_noisy - epsilon])\n",
    "\n",
    "            # Передаем omega в sor_algorithm\n",
    "            a, info = sor_algorithm(H, E, c, C, omega=omega)\n",
    "            b = -np.sum(a[l:] - a[:l])\n",
    "\n",
    "            y_pred = predict(x, x, a, b, gamma)\n",
    "\n",
    "            mae = mean_absolute_error(y_true, y_pred)\n",
    "            sv_count = count_support_vectors(a, C)\n",
    "\n",
    "            results.append({\n",
    "                'C': C,\n",
    "                'epsilon': epsilon,\n",
    "                'gamma': gamma,\n",
    "                'sv_count': sv_count,\n",
    "                'MAE': mae,\n",
    "                'omega': omega  # Добавляем omega в результаты\n",
    "            })\n",
    "\n",
    "            if mae < best_mae:\n",
    "                best_mae = mae\n",
    "                best_params = params\n",
    "                best_info = info\n",
    "\n",
    "            pbar.update(1)\n",
    "\n",
    "    # Преобразуем результаты в DataFrame\n",
    "    results_df = pd.DataFrame(results)\n",
    "\n",
    "    # Сохраняем результаты в CSV-файл\n",
    "    filename = f'results_omega_{omega}.csv'\n",
    "    results_df.to_csv(filename, index=False)\n",
    "    print(f\"Results for omega={omega} saved to {filename}\")\n",
    "\n",
    "    # Выводим таблицу с результатами\n",
    "    print(f\"Results for omega={omega}:\")\n",
    "    print(results_df)\n",
    "\n",
    "    # Выводим лучшие параметры\n",
    "    print(f\"Best MAE for omega={omega}: {best_mae:.4f}\")\n",
    "    print(f\"Best parameters for omega={omega}: {best_params}\")\n",
    "\n",
    "    return results_df\n",
    "\n",
    "# Запускаем параллельные вычисления\n",
    "omega_values = [0.5, 1.0, 1.5, 1.9]\n",
    "results_dfs = Parallel(n_jobs=-1)(delayed(process_omega)(omega) for omega in omega_values)\n",
    "\n"
   ],
   "metadata": {
    "collapsed": false,
    "ExecuteTime": {
     "end_time": "2025-05-03T13:31:55.781823800Z",
     "start_time": "2025-05-03T12:56:56.826691500Z"
    }
   }
  },
  {
   "cell_type": "code",
   "execution_count": 9,
   "outputs": [],
   "source": [
    "def extract_bounded_support_vectors(a, x_train, C):\n",
    "    \"\"\"\n",
    "    Выделяет связные векторы (граничные опорные векторы).\n",
    "    :param a: Массив двойственных переменных (размер 2*l).\n",
    "    :param x_train: Обучающие данные (размер l).\n",
    "    :param C: Параметр регуляризации.\n",
    "    :return: Индексы связных векторов и их координаты.\n",
    "    \"\"\"\n",
    "    l = len(x_train)\n",
    "    bounded_support_vector_indices = []\n",
    "\n",
    "    for i in range(l):\n",
    "        if np.isclose(a[i], C) or np.isclose(a[i + l], C):  # Проверяем условия для a_i и a_i^*\n",
    "            bounded_support_vector_indices.append(i)\n",
    "\n",
    "    bounded_support_vectors = x_train[bounded_support_vector_indices]\n",
    "    return bounded_support_vector_indices, bounded_support_vectors"
   ],
   "metadata": {
    "collapsed": false,
    "ExecuteTime": {
     "end_time": "2025-05-01T10:40:04.859729400Z",
     "start_time": "2025-05-01T10:40:04.829872500Z"
    }
   }
  },
  {
   "cell_type": "code",
   "execution_count": 20,
   "outputs": [
    {
     "name": "stderr",
     "output_type": "stream",
     "text": [
      "C:\\Users\\79823\\AppData\\Local\\Temp\\ipykernel_20948\\2379539049.py:56: UserWarning: FigureCanvasAgg is non-interactive, and thus cannot be shown\n",
      "  plt.show()\n"
     ]
    }
   ],
   "source": [
    "# Выбираем omega=1.0 и лучшие гиперпараметры\n",
    "omega = 1.0\n",
    "best_params = {'C': 3.1622776601683795, 'epsilon': 0.01, 'gamma': 1.0}\n",
    "C_best, epsilon_best, gamma_best = best_params['C'], best_params['epsilon'], best_params['gamma']\n",
    "\n",
    "# Вычисляем матрицы и решаем задачу для лучших параметров\n",
    "K_best = compute_kernel_matrix(x, gamma_best)\n",
    "H_best = np.block([[K_best, -K_best], [-K_best, K_best]])\n",
    "E_best = np.block([[np.ones((l, l)), -np.ones((l, l))], [-np.ones((l, l)), np.ones((l, l))]])\n",
    "c_best = np.concatenate([y_noisy - epsilon_best, -y_noisy - epsilon_best])\n",
    "a_best, info_best = sor_algorithm(H_best, E_best, c_best, C_best, omega=omega)\n",
    "b_best = -np.sum(a_best[l:] - a_best[:l])\n",
    "\n",
    "# Используем x_test для плавного графика\n",
    "x_test = np.linspace(x_min, x_max, 500)\n",
    "y_pred_best = predict(x_test, x, a_best, b_best, gamma_best)\n",
    "\n",
    "# Извлекаем опорные и связные векторы\n",
    "sup_vectors_indices, _ = extract_support_vectors(a_best, x, C_best)\n",
    "bounded_sup_vectors_indices, _ = extract_bounded_support_vectors(a_best, x, C_best)\n",
    "\n",
    "# Количество опорных и связных векторов\n",
    "num_support_vectors = len(sup_vectors_indices)\n",
    "num_bounded_support_vectors = len(bounded_sup_vectors_indices)\n",
    "\n",
    "# Строим график\n",
    "plt.figure(figsize=(10, 6))\n",
    "plt.plot(x, y_true, label=\"True function\", color=\"black\", linestyle=\"--\")\n",
    "plt.scatter(x, y_noisy, label=\"Noisy data\", color=\"blue\", alpha=0.5)\n",
    "\n",
    "# Отображаем опорные векторы\n",
    "plt.scatter(x[sup_vectors_indices], y_noisy[sup_vectors_indices], color=\"red\", alpha=0.9,\n",
    "            label=f\"Support vectors ({num_support_vectors})\")\n",
    "\n",
    "# Отображаем связные векторы\n",
    "plt.scatter(x[bounded_sup_vectors_indices], y_noisy[bounded_sup_vectors_indices], color=\"green\", alpha=0.9,\n",
    "            label=f\"Bounded support vectors ({num_bounded_support_vectors})\")\n",
    "\n",
    "plt.plot(x_test, y_pred_best, label=\"Predicted function\", color=\"red\")\n",
    "plt.fill_between(x_test, y_pred_best - epsilon_best, y_pred_best + epsilon_best, color=\"gray\", alpha=0.2,\n",
    "                 label=\"ε-tube\")\n",
    "\n",
    "# Указываем количество опорных и связных векторов в легенде\n",
    "plt.legend()\n",
    "plt.title(\"Support Vector Regression with Best Parameters and Bounded Vectors\")\n",
    "plt.xlabel(\"x\")\n",
    "plt.ylabel(\"y\")\n",
    "\n",
    "# Выводим количество опорных и связных векторов под графиком\n",
    "plt.figtext(0.5, -0.1,\n",
    "            f\"Number of Support Vectors: {num_support_vectors}\\n\"\n",
    "            f\"Number of Bounded Support Vectors: {num_bounded_support_vectors}\",\n",
    "            wrap=True, ha=\"center\", fontsize=12)\n",
    "\n",
    "plt.savefig('output.png')\n",
    "plt.show()\n"
   ],
   "metadata": {
    "collapsed": false,
    "ExecuteTime": {
     "end_time": "2025-05-01T11:11:00.561557100Z",
     "start_time": "2025-05-01T11:10:45.827633800Z"
    }
   }
  },
  {
   "cell_type": "code",
   "execution_count": 13,
   "outputs": [
    {
     "data": {
      "text/plain": "<Figure size 640x480 with 0 Axes>"
     },
     "metadata": {},
     "output_type": "display_data"
    }
   ],
   "source": [
    "plt.savefig('support_and_bounded_vectors.png', bbox_inches='tight')"
   ],
   "metadata": {
    "collapsed": false,
    "ExecuteTime": {
     "end_time": "2025-05-01T10:46:11.576632900Z",
     "start_time": "2025-05-01T10:46:11.522560700Z"
    }
   }
  },
  {
   "cell_type": "code",
   "execution_count": 21,
   "outputs": [
    {
     "name": "stderr",
     "output_type": "stream",
     "text": [
      "\n",
      "KeyboardInterrupt\n",
      "\n"
     ]
    }
   ],
   "source": [],
   "metadata": {
    "collapsed": false,
    "ExecuteTime": {
     "end_time": "2025-05-01T11:29:45.258657600Z",
     "start_time": "2025-05-01T11:29:30.654692900Z"
    }
   }
  }
 ],
 "metadata": {
  "kernelspec": {
   "display_name": "Python 3",
   "language": "python",
   "name": "python3"
  },
  "language_info": {
   "codemirror_mode": {
    "name": "ipython",
    "version": 2
   },
   "file_extension": ".py",
   "mimetype": "text/x-python",
   "name": "python",
   "nbconvert_exporter": "python",
   "pygments_lexer": "ipython2",
   "version": "2.7.6"
  }
 },
 "nbformat": 4,
 "nbformat_minor": 0
}
